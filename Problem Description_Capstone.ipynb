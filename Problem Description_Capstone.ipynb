{
 "cells": [
  {
   "cell_type": "markdown",
   "metadata": {},
   "source": [
    "# The Interaction between Tourist Attractions and Neighborhoods in Tainan"
   ]
  },
  {
   "cell_type": "markdown",
   "metadata": {},
   "source": [
    "## 1. Introduction and Background"
   ]
  },
  {
   "cell_type": "markdown",
   "metadata": {},
   "source": [
    "As a citizen living in Tainan, a small coastal city locating in southern Taiwan, I alway wonder the functions of tourist attractions. I mean, it is obvious why Tainan is a great place for tourists. Since Tainan is the most ancient city in Taiwan, the ubiquitous temples and cultural heritages propel tourism growth and bring economical advantage to the local neighborhoods. However, what confounds me is how the tourism impact our city's morphology. Hence, in this project, the main goal is to \n",
    "### (i) explore the neighborhood morphology around tourist attractions.\n",
    "### (ii) identify the characteristics that signify the singularity of a tourist attractions."
   ]
  },
  {
   "cell_type": "markdown",
   "metadata": {},
   "source": [
    "## 2. Business Problem"
   ]
  },
  {
   "cell_type": "markdown",
   "metadata": {},
   "source": [
    "The business opportunities around tourist attractions is huge. However, one has to identify the neighborhood morphology before opening a store or restaurant. If the area around tourist sites is, for instance, saturated with restaurants, then one best consider prudently whether opening a restaurant is still potentially lucrative. This project can reveal the neighborhood morphology around the tourist sites and, therefore, provide perspectives to this business problem."
   ]
  },
  {
   "cell_type": "markdown",
   "metadata": {},
   "source": [
    "## 3. Data description"
   ]
  },
  {
   "cell_type": "markdown",
   "metadata": {},
   "source": [
    "The data come from this government-established website https://data.tainan.gov.tw/dataset/landmark2/resource/0faea8ce-212e-40bd-861a-65f0d2789db6"
   ]
  }
 ],
 "metadata": {
  "kernelspec": {
   "display_name": "Python 3",
   "language": "python",
   "name": "python3"
  },
  "language_info": {
   "codemirror_mode": {
    "name": "ipython",
    "version": 3
   },
   "file_extension": ".py",
   "mimetype": "text/x-python",
   "name": "python",
   "nbconvert_exporter": "python",
   "pygments_lexer": "ipython3",
   "version": "3.6.9"
  }
 },
 "nbformat": 4,
 "nbformat_minor": 4
}
